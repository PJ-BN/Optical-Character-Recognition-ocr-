{
 "cells": [
  {
   "cell_type": "code",
   "execution_count": 10,
   "metadata": {},
   "outputs": [],
   "source": [
    "import tensorflow as tf\n",
    "from tensorflow.keras.preprocessing.image import ImageDataGenerator\n",
    "import numpy as np\n",
    "import matplotlib.pyplot as plt\n",
    "import matplotlib.image as mpimg\n",
    "from tensorflow.keras import layers\n",
    "from tensorflow.keras.models import Sequential\n",
    "\n"
   ]
  },
  {
   "cell_type": "code",
   "execution_count": 11,
   "metadata": {},
   "outputs": [
    {
     "name": "stdout",
     "output_type": "stream",
     "text": [
      "Num GPUs Available:  0\n"
     ]
    }
   ],
   "source": [
    "print(\"Num GPUs Available: \", len(tf.config.list_physical_devices('GPU')))"
   ]
  },
  {
   "cell_type": "code",
   "execution_count": 4,
   "metadata": {},
   "outputs": [
    {
     "name": "stdout",
     "output_type": "stream",
     "text": [
      "Found 20628 images belonging to 36 classes.\n",
      "Found 1008 images belonging to 36 classes.\n"
     ]
    }
   ],
   "source": [
    "\n",
    "train_datagen = ImageDataGenerator(rescale=1./255,\n",
    "                                   rotation_range = 40,\n",
    "                                   width_shift_range = 0.2,\n",
    "                                   height_shift_range=0.2,\n",
    "                                   shear_range= 0.2,\n",
    "                                   horizontal_flip= True,\n",
    "                                   vertical_flip = True)\n",
    "\n",
    "valid_datagen = ImageDataGenerator(rescale = 1./255)\n",
    "\n",
    "train_dir_path = \"ocr-data/data/training_data/\"\n",
    "valid_dir_path = \"ocr-data/data/testing_data\"\n",
    "\n",
    "train_data = train_datagen.flow_from_directory(train_dir_path,\n",
    "                                               target_size = (150,150),\n",
    "                                               class_mode='categorical',\n",
    "                                               seed = 42)\n",
    "\n",
    "valid_data = valid_datagen.flow_from_directory(valid_dir_path,\n",
    "                                               target_size = (150,150),\n",
    "                                               class_mode = 'categorical',\n",
    "                                               seed = 42)\n"
   ]
  },
  {
   "cell_type": "code",
   "execution_count": 5,
   "metadata": {},
   "outputs": [
    {
     "name": "stdout",
     "output_type": "stream",
     "text": [
      "['0' '1' '2' '3' '4' '5' '6' '7' '8' '9' 'A' 'B' 'C' 'D' 'E' 'F' 'G' 'H'\n",
      " 'I' 'J' 'K' 'L' 'M' 'N' 'O' 'P' 'Q' 'R' 'S' 'T' 'U' 'V' 'W' 'X' 'Y' 'Z']\n"
     ]
    }
   ],
   "source": [
    "from pathlib import Path\n",
    "class_name = np.array(sorted(item.name for item in Path(train_dir_path).glob(\"*\")))\n",
    "print(class_name)"
   ]
  },
  {
   "cell_type": "code",
   "execution_count": 6,
   "metadata": {},
   "outputs": [
    {
     "data": {
      "text/plain": [
       "36"
      ]
     },
     "execution_count": 6,
     "metadata": {},
     "output_type": "execute_result"
    }
   ],
   "source": [
    "len(class_name)"
   ]
  },
  {
   "cell_type": "code",
   "execution_count": 12,
   "metadata": {},
   "outputs": [
    {
     "name": "stdout",
     "output_type": "stream",
     "text": [
      "Epoch 1/10\n",
      "645/645 [==============================] - 409s 633ms/step - loss: 3.0324 - accuracy: 0.1428 - val_loss: 1.5543 - val_accuracy: 0.4563\n",
      "Epoch 2/10\n",
      "645/645 [==============================] - 305s 472ms/step - loss: 1.8904 - accuracy: 0.3968 - val_loss: 0.8578 - val_accuracy: 0.7024\n",
      "Epoch 3/10\n",
      "645/645 [==============================] - 308s 478ms/step - loss: 1.3458 - accuracy: 0.5623 - val_loss: 0.4564 - val_accuracy: 0.8423\n",
      "Epoch 4/10\n",
      "645/645 [==============================] - 317s 492ms/step - loss: 1.0643 - accuracy: 0.6468 - val_loss: 0.3366 - val_accuracy: 0.8720\n",
      "Epoch 5/10\n",
      "645/645 [==============================] - 320s 496ms/step - loss: 0.9080 - accuracy: 0.7016 - val_loss: 0.3275 - val_accuracy: 0.8552\n",
      "Epoch 6/10\n",
      "645/645 [==============================] - 318s 492ms/step - loss: 0.7904 - accuracy: 0.7400 - val_loss: 0.2774 - val_accuracy: 0.9067\n",
      "Epoch 7/10\n",
      "645/645 [==============================] - 319s 495ms/step - loss: 0.7236 - accuracy: 0.7628 - val_loss: 0.3068 - val_accuracy: 0.8621\n",
      "Epoch 8/10\n",
      "645/645 [==============================] - 349s 541ms/step - loss: 0.6582 - accuracy: 0.7818 - val_loss: 0.3008 - val_accuracy: 0.9008\n",
      "Epoch 9/10\n",
      "645/645 [==============================] - 378s 582ms/step - loss: 0.6214 - accuracy: 0.7934 - val_loss: 0.3060 - val_accuracy: 0.8601\n",
      "Epoch 10/10\n",
      "645/645 [==============================] - 420s 651ms/step - loss: 0.5862 - accuracy: 0.8053 - val_loss: 0.1869 - val_accuracy: 0.9177\n"
     ]
    }
   ],
   "source": [
    "model_1 = Sequential([\n",
    "    layers.Conv2D(16,3, activation = \"relu\", input_shape = (150,150,2)),\n",
    "    layers.Conv2D(32,3,activation = \"relu\"),\n",
    "    layers.MaxPool2D(2),\n",
    "    layers.Conv2D(64,3, activation = \"relu\"),\n",
    "    layers.MaxPool2D(2),\n",
    "    layers.Conv2D(64,3, activation = \"relu\"),\n",
    "    layers.MaxPool2D(2),\n",
    "    layers.Conv2D(64,3, activation = \"relu\"),\n",
    "    layers.MaxPool2D(2),\n",
    "    layers.Flatten(),\n",
    "    layers.Dense(300, activation = \"relu\"),\n",
    "    layers.Dense(36, activation = \"softmax\")\n",
    "])\n",
    "\n",
    "model_1.compile(loss = \"categorical_crossentropy\",\n",
    "                optimizer = \"rmsprop\",\n",
    "                metrics = [\"accuracy\"])\n",
    "\n",
    "history_1 = model_1.fit(train_data,\n",
    "                      epochs = 10,\n",
    "                      steps_per_epoch = len(train_data),\n",
    "                      validation_data = valid_data,\n",
    "                      validation_steps = len(valid_data))"
   ]
  },
  {
   "cell_type": "code",
   "execution_count": 13,
   "metadata": {},
   "outputs": [
    {
     "name": "stdout",
     "output_type": "stream",
     "text": [
      "Model: \"sequential_1\"\n",
      "_________________________________________________________________\n",
      " Layer (type)                Output Shape              Param #   \n",
      "=================================================================\n",
      " conv2d_5 (Conv2D)           (None, 148, 148, 16)      448       \n",
      "                                                                 \n",
      " conv2d_6 (Conv2D)           (None, 146, 146, 32)      4640      \n",
      "                                                                 \n",
      " max_pooling2d_4 (MaxPooling  (None, 73, 73, 32)       0         \n",
      " 2D)                                                             \n",
      "                                                                 \n",
      " conv2d_7 (Conv2D)           (None, 71, 71, 64)        18496     \n",
      "                                                                 \n",
      " max_pooling2d_5 (MaxPooling  (None, 35, 35, 64)       0         \n",
      " 2D)                                                             \n",
      "                                                                 \n",
      " conv2d_8 (Conv2D)           (None, 33, 33, 64)        36928     \n",
      "                                                                 \n",
      " max_pooling2d_6 (MaxPooling  (None, 16, 16, 64)       0         \n",
      " 2D)                                                             \n",
      "                                                                 \n",
      " conv2d_9 (Conv2D)           (None, 14, 14, 64)        36928     \n",
      "                                                                 \n",
      " max_pooling2d_7 (MaxPooling  (None, 7, 7, 64)         0         \n",
      " 2D)                                                             \n",
      "                                                                 \n",
      " flatten_1 (Flatten)         (None, 3136)              0         \n",
      "                                                                 \n",
      " dense_2 (Dense)             (None, 300)               941100    \n",
      "                                                                 \n",
      " dense_3 (Dense)             (None, 36)                10836     \n",
      "                                                                 \n",
      "=================================================================\n",
      "Total params: 1,049,376\n",
      "Trainable params: 1,049,376\n",
      "Non-trainable params: 0\n",
      "_________________________________________________________________\n"
     ]
    }
   ],
   "source": [
    "model_1.summary()"
   ]
  },
  {
   "cell_type": "code",
   "execution_count": 16,
   "metadata": {},
   "outputs": [],
   "source": [
    "exp_path = \"exp.png\""
   ]
  },
  {
   "cell_type": "code",
   "execution_count": 43,
   "metadata": {},
   "outputs": [],
   "source": [
    "def load_and_prep_data(filename, filesize = [150,150]):\n",
    "  # read the images\n",
    "  img = tf.io.read_file(filename)\n",
    "  # decode the images\n",
    "  img = tf.io.decode_png(contents=img, channels = 3)\n",
    "  # resize the image \n",
    "  img = tf.image.resize(img , size = filesize)\n",
    "  img = img/255.\n",
    "  # expand the dims\n",
    "  img = tf.expand_dims(img, axis = 0)\n",
    "  \n",
    "\n",
    "  return img\n",
    "\n",
    "     "
   ]
  },
  {
   "cell_type": "code",
   "execution_count": 44,
   "metadata": {},
   "outputs": [
    {
     "data": {
      "text/plain": [
       "<tf.Tensor: shape=(1, 150, 150, 3), dtype=float32, numpy=\n",
       "array([[[[0., 0., 0.],\n",
       "         [0., 0., 0.],\n",
       "         [0., 0., 0.],\n",
       "         ...,\n",
       "         [0., 0., 0.],\n",
       "         [0., 0., 0.],\n",
       "         [0., 0., 0.]],\n",
       "\n",
       "        [[0., 0., 0.],\n",
       "         [0., 0., 0.],\n",
       "         [0., 0., 0.],\n",
       "         ...,\n",
       "         [0., 0., 0.],\n",
       "         [0., 0., 0.],\n",
       "         [0., 0., 0.]],\n",
       "\n",
       "        [[0., 0., 0.],\n",
       "         [0., 0., 0.],\n",
       "         [0., 0., 0.],\n",
       "         ...,\n",
       "         [0., 0., 0.],\n",
       "         [0., 0., 0.],\n",
       "         [0., 0., 0.]],\n",
       "\n",
       "        ...,\n",
       "\n",
       "        [[0., 0., 0.],\n",
       "         [0., 0., 0.],\n",
       "         [0., 0., 0.],\n",
       "         ...,\n",
       "         [0., 0., 0.],\n",
       "         [0., 0., 0.],\n",
       "         [0., 0., 0.]],\n",
       "\n",
       "        [[0., 0., 0.],\n",
       "         [0., 0., 0.],\n",
       "         [0., 0., 0.],\n",
       "         ...,\n",
       "         [0., 0., 0.],\n",
       "         [0., 0., 0.],\n",
       "         [0., 0., 0.]],\n",
       "\n",
       "        [[0., 0., 0.],\n",
       "         [0., 0., 0.],\n",
       "         [0., 0., 0.],\n",
       "         ...,\n",
       "         [0., 0., 0.],\n",
       "         [0., 0., 0.],\n",
       "         [0., 0., 0.]]]], dtype=float32)>"
      ]
     },
     "execution_count": 44,
     "metadata": {},
     "output_type": "execute_result"
    }
   ],
   "source": [
    "image = load_and_prep_data(exp_path)\n",
    "image"
   ]
  },
  {
   "cell_type": "code",
   "execution_count": 45,
   "metadata": {},
   "outputs": [
    {
     "name": "stdout",
     "output_type": "stream",
     "text": [
      "1/1 [==============================] - 0s 165ms/step\n"
     ]
    }
   ],
   "source": [
    "img_class =  model_1.predict(image)"
   ]
  },
  {
   "attachments": {},
   "cell_type": "markdown",
   "metadata": {},
   "source": [
    "train_data[0][0]"
   ]
  },
  {
   "cell_type": "code",
   "execution_count": 46,
   "metadata": {},
   "outputs": [
    {
     "data": {
      "text/plain": [
       "array([[1.6296623e-02, 3.1790589e-03, 1.5552310e-05, 6.8074892e-09,\n",
       "        9.1790349e-07, 2.4029737e-06, 1.0140587e-04, 7.0969269e-05,\n",
       "        2.4061428e-06, 1.1326114e-04, 1.4422812e-06, 1.0392887e-05,\n",
       "        3.8947041e-05, 5.6872419e-03, 2.9825043e-07, 6.6310372e-07,\n",
       "        1.8347937e-05, 2.0546755e-05, 9.6283042e-01, 7.5712502e-03,\n",
       "        3.2190579e-05, 3.6798665e-04, 2.4240755e-06, 1.1609915e-03,\n",
       "        7.1539159e-04, 3.6830895e-04, 7.7881188e-05, 7.0489688e-05,\n",
       "        5.0531330e-06, 1.0214595e-06, 1.2184109e-03, 1.2156867e-05,\n",
       "        1.0766952e-06, 6.7235624e-07, 1.7312525e-06, 2.1722685e-06]],\n",
       "      dtype=float32)"
      ]
     },
     "execution_count": 46,
     "metadata": {},
     "output_type": "execute_result"
    }
   ],
   "source": [
    "img_class"
   ]
  },
  {
   "cell_type": "code",
   "execution_count": 48,
   "metadata": {},
   "outputs": [],
   "source": [
    "f = np.round(img_class)"
   ]
  },
  {
   "cell_type": "code",
   "execution_count": 51,
   "metadata": {},
   "outputs": [
    {
     "data": {
      "text/plain": [
       "array([[0., 0., 0., 0., 0., 0., 0., 0., 0., 0., 0., 0., 0., 0., 0., 0.,\n",
       "        0., 0., 1., 0., 0., 0., 0., 0., 0., 0., 0., 0., 0., 0., 0., 0.,\n",
       "        0., 0., 0., 0.]], dtype=float32)"
      ]
     },
     "execution_count": 51,
     "metadata": {},
     "output_type": "execute_result"
    }
   ],
   "source": [
    "f"
   ]
  },
  {
   "cell_type": "code",
   "execution_count": 50,
   "metadata": {},
   "outputs": [
    {
     "data": {
      "text/plain": [
       "0.0"
      ]
     },
     "execution_count": 50,
     "metadata": {},
     "output_type": "execute_result"
    }
   ],
   "source": [
    "f[0][1]"
   ]
  },
  {
   "cell_type": "code",
   "execution_count": 53,
   "metadata": {},
   "outputs": [],
   "source": [
    "len(f[0])\n",
    "a= 0"
   ]
  },
  {
   "cell_type": "code",
   "execution_count": 56,
   "metadata": {},
   "outputs": [
    {
     "name": "stdout",
     "output_type": "stream",
     "text": [
      "18\n"
     ]
    }
   ],
   "source": [
    "for i in range(len(f[0])):\n",
    "    if f[0][i] == 1:\n",
    "        print(i)\n",
    "        a= i"
   ]
  },
  {
   "cell_type": "code",
   "execution_count": 57,
   "metadata": {},
   "outputs": [
    {
     "data": {
      "text/plain": [
       "'I'"
      ]
     },
     "execution_count": 57,
     "metadata": {},
     "output_type": "execute_result"
    }
   ],
   "source": [
    "class_name[a]"
   ]
  },
  {
   "cell_type": "code",
   "execution_count": null,
   "metadata": {},
   "outputs": [],
   "source": []
  }
 ],
 "metadata": {
  "kernelspec": {
   "display_name": "common",
   "language": "python",
   "name": "python3"
  },
  "language_info": {
   "codemirror_mode": {
    "name": "ipython",
    "version": 3
   },
   "file_extension": ".py",
   "mimetype": "text/x-python",
   "name": "python",
   "nbconvert_exporter": "python",
   "pygments_lexer": "ipython3",
   "version": "3.11.4"
  },
  "orig_nbformat": 4
 },
 "nbformat": 4,
 "nbformat_minor": 2
}
