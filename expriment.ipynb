{
 "cells": [
  {
   "cell_type": "code",
   "execution_count": 1,
   "metadata": {},
   "outputs": [],
   "source": [
    "import tensorflow as tf\n",
    "from tensorflow.keras.preprocessing.image import ImageDataGenerator\n",
    "import numpy as np\n",
    "import matplotlib.pyplot as plt\n",
    "import matplotlib.image as mpimg\n",
    "from tensorflow.keras import layers\n",
    "from tensorflow.keras.models import Sequential\n",
    "\n"
   ]
  },
  {
   "cell_type": "code",
   "execution_count": 24,
   "metadata": {},
   "outputs": [
    {
     "name": "stdout",
     "output_type": "stream",
     "text": [
      "Found 20628 images belonging to 36 classes.\n",
      "Found 1008 images belonging to 36 classes.\n"
     ]
    }
   ],
   "source": [
    "\n",
    "train_datagen = ImageDataGenerator(rescale=1./255,\n",
    "                                   rotation_range = 20,\n",
    "                                   width_shift_range = 0.2,\n",
    "                                   height_shift_range=0.2,\n",
    "                                   shear_range= 0.2,)\n",
    "\n",
    "valid_datagen = ImageDataGenerator(rescale = 1./255)\n",
    "\n",
    "train_dir_path = \"ocr-data/data/training_data/\"\n",
    "valid_dir_path = \"ocr-data/data/testing_data\"\n",
    "\n",
    "train_data = train_datagen.flow_from_directory(train_dir_path,\n",
    "                                               target_size = (150,150),\n",
    "                                               class_mode='categorical',\n",
    "                                               color_mode = 'grayscale',\n",
    "                                               seed = 42)\n",
    "\n",
    "valid_data = valid_datagen.flow_from_directory(valid_dir_path,\n",
    "                                               target_size = (150,150),\n",
    "                                               class_mode = 'categorical',\n",
    "                                               color_mode = 'grayscale',\n",
    "                                               seed = 42)\n"
   ]
  },
  {
   "cell_type": "code",
   "execution_count": 25,
   "metadata": {},
   "outputs": [
    {
     "name": "stdout",
     "output_type": "stream",
     "text": [
      "['0' '1' '2' '3' '4' '5' '6' '7' '8' '9' 'A' 'B' 'C' 'D' 'E' 'F' 'G' 'H'\n",
      " 'I' 'J' 'K' 'L' 'M' 'N' 'O' 'P' 'Q' 'R' 'S' 'T' 'U' 'V' 'W' 'X' 'Y' 'Z']\n"
     ]
    }
   ],
   "source": [
    "from pathlib import Path\n",
    "class_name = np.array(sorted(item.name for item in Path(train_dir_path).glob(\"*\")))\n",
    "print(class_name)"
   ]
  },
  {
   "cell_type": "code",
   "execution_count": 26,
   "metadata": {},
   "outputs": [
    {
     "data": {
      "text/plain": [
       "36"
      ]
     },
     "execution_count": 26,
     "metadata": {},
     "output_type": "execute_result"
    }
   ],
   "source": [
    "len(class_name)"
   ]
  },
  {
   "cell_type": "code",
   "execution_count": 29,
   "metadata": {},
   "outputs": [
    {
     "name": "stdout",
     "output_type": "stream",
     "text": [
      "Model: \"model_8\"\n",
      "_________________________________________________________________\n",
      " Layer (type)                Output Shape              Param #   \n",
      "=================================================================\n",
      " input_9 (InputLayer)        [(None, 150, 150, 1)]     0         \n",
      "                                                                 \n",
      " conv2d_32 (Conv2D)          (None, 148, 148, 16)      160       \n",
      "                                                                 \n",
      " max_pooling2d_32 (MaxPoolin  (None, 74, 74, 16)       0         \n",
      " g2D)                                                            \n",
      "                                                                 \n",
      " conv2d_33 (Conv2D)          (None, 72, 72, 64)        9280      \n",
      "                                                                 \n",
      " max_pooling2d_33 (MaxPoolin  (None, 36, 36, 64)       0         \n",
      " g2D)                                                            \n",
      "                                                                 \n",
      " dropout_8 (Dropout)         (None, 36, 36, 64)        0         \n",
      "                                                                 \n",
      " conv2d_34 (Conv2D)          (None, 34, 34, 128)       73856     \n",
      "                                                                 \n",
      " max_pooling2d_34 (MaxPoolin  (None, 17, 17, 128)      0         \n",
      " g2D)                                                            \n",
      "                                                                 \n",
      " conv2d_35 (Conv2D)          (None, 15, 15, 128)       147584    \n",
      "                                                                 \n",
      " max_pooling2d_35 (MaxPoolin  (None, 7, 7, 128)        0         \n",
      " g2D)                                                            \n",
      "                                                                 \n",
      " flatten_8 (Flatten)         (None, 6272)              0         \n",
      "                                                                 \n",
      " dense_16 (Dense)            (None, 300)               1881900   \n",
      "                                                                 \n",
      " dense_17 (Dense)            (None, 36)                10836     \n",
      "                                                                 \n",
      "=================================================================\n",
      "Total params: 2,123,616\n",
      "Trainable params: 2,123,616\n",
      "Non-trainable params: 0\n",
      "_________________________________________________________________\n"
     ]
    }
   ],
   "source": [
    "inputs = layers.Input(shape = (150,150,1), dtype = tf.float64)\n",
    "x = layers.Conv2D(16,3,activation = \"relu\")(inputs)\n",
    "x = layers.MaxPool2D(2)(x)\n",
    "x = layers.Conv2D(64,3,activation = \"relu\")(x)\n",
    "x = layers.MaxPool2D(2)(x)\n",
    "x = layers.Dropout(0.2)(x)\n",
    "x = layers.Conv2D(128,3,activation = \"relu\")(x)\n",
    "x = layers.MaxPool2D(2)(x)\n",
    "x = layers.Conv2D(128,3,activation = \"relu\")(x)\n",
    "x = layers.MaxPool2D(2)(x)\n",
    "x = layers.Flatten()(x)\n",
    "x = layers.Dense(300, activation = \"relu\")(x)\n",
    "outputs = layers.Dense(36, activation = \"softmax\")(x)\n",
    "\n",
    "model_1 = tf.keras.Model(inputs, outputs)\n",
    "model_1.summary()"
   ]
  },
  {
   "cell_type": "code",
   "execution_count": 30,
   "metadata": {},
   "outputs": [
    {
     "name": "stdout",
     "output_type": "stream",
     "text": [
      "Epoch 1/5\n",
      "645/645 [==============================] - 483s 747ms/step - loss: 1.5754 - accuracy: 0.5456 - val_loss: 0.2506 - val_accuracy: 0.9206\n",
      "Epoch 2/5\n",
      "645/645 [==============================] - 296s 459ms/step - loss: 0.5910 - accuracy: 0.8219 - val_loss: 0.1542 - val_accuracy: 0.9385\n",
      "Epoch 3/5\n",
      "645/645 [==============================] - 270s 418ms/step - loss: 0.4379 - accuracy: 0.8650 - val_loss: 0.1117 - val_accuracy: 0.9524\n",
      "Epoch 4/5\n",
      "645/645 [==============================] - 255s 395ms/step - loss: 0.3718 - accuracy: 0.8866 - val_loss: 0.0565 - val_accuracy: 0.9742\n",
      "Epoch 5/5\n",
      "645/645 [==============================] - 292s 453ms/step - loss: 0.3249 - accuracy: 0.8959 - val_loss: 0.0665 - val_accuracy: 0.9722\n"
     ]
    }
   ],
   "source": [
    "model_1.compile(loss = \"categorical_crossentropy\",\n",
    "                optimizer = \"adam\",\n",
    "                metrics = [\"accuracy\"])\n",
    "\n",
    "history_1 = model_1.fit(train_data,\n",
    "                      epochs = 5,\n",
    "                      steps_per_epoch = len(train_data),\n",
    "                      validation_data = valid_data,\n",
    "                      validation_steps = len(valid_data))"
   ]
  },
  {
   "cell_type": "code",
   "execution_count": 35,
   "metadata": {},
   "outputs": [],
   "source": [
    "def load_and_prep_data(filename, filesize = [150,150]):\n",
    "  # read the images\n",
    "  img = tf.io.read_file(filename)\n",
    "  # decode the images\n",
    "  img = tf.io.decode_image(contents=img, channels = 1)\n",
    "  # resize the image \n",
    "  img = tf.image.resize(img , size = filesize)\n",
    "  img = img/255.\n",
    "  # expand the dims\n",
    "  img = tf.expand_dims(img, axis = 0)\n",
    "  \n",
    "\n",
    "  return img\n",
    "\n",
    "     "
   ]
  },
  {
   "cell_type": "code",
   "execution_count": 67,
   "metadata": {},
   "outputs": [],
   "source": [
    "def evaluate(img):\n",
    "    f = tf.math.argmax(img, axis = 1)\n",
    "\n",
    "    return f"
   ]
  },
  {
   "cell_type": "code",
   "execution_count": 78,
   "metadata": {},
   "outputs": [],
   "source": [
    "exp_path = \"b.png\"\n"
   ]
  },
  {
   "cell_type": "code",
   "execution_count": 79,
   "metadata": {},
   "outputs": [
    {
     "name": "stdout",
     "output_type": "stream",
     "text": [
      "1/1 [==============================] - 0s 21ms/step\n",
      "[[5.2713892e-11 2.6725164e-22 9.4208917e-17 1.0684853e-14 3.6485923e-15\n",
      "  7.2607124e-16 1.5338475e-08 6.5007936e-16 9.4074894e-11 1.0604093e-21\n",
      "  6.5218842e-08 9.9999940e-01 2.9721887e-13 1.1748455e-10 6.9942302e-10\n",
      "  3.7182920e-11 6.3606096e-14 2.8730721e-10 1.8043740e-14 4.5096757e-22\n",
      "  7.0642350e-12 5.1298522e-13 4.0102737e-20 6.3087697e-16 3.0314085e-11\n",
      "  4.9673701e-09 2.7389206e-15 5.2130832e-07 2.4080386e-18 8.0837941e-13\n",
      "  3.1207008e-14 8.0340562e-16 2.2295146e-15 2.3888629e-17 3.3692127e-15\n",
      "  1.8651403e-11]]\n"
     ]
    }
   ],
   "source": [
    "image = load_and_prep_data(exp_path)\n",
    "img_class =  model_1.predict(image)\n",
    "print(img_class)\n",
    "f_image= evaluate(img_class)\n"
   ]
  },
  {
   "cell_type": "code",
   "execution_count": 80,
   "metadata": {},
   "outputs": [
    {
     "data": {
      "text/plain": [
       "array(['B'], dtype='<U1')"
      ]
     },
     "execution_count": 80,
     "metadata": {},
     "output_type": "execute_result"
    }
   ],
   "source": [
    "class_name[f_image]\n"
   ]
  },
  {
   "cell_type": "code",
   "execution_count": null,
   "metadata": {},
   "outputs": [],
   "source": []
  }
 ],
 "metadata": {
  "kernelspec": {
   "display_name": "common",
   "language": "python",
   "name": "python3"
  },
  "language_info": {
   "codemirror_mode": {
    "name": "ipython",
    "version": 3
   },
   "file_extension": ".py",
   "mimetype": "text/x-python",
   "name": "python",
   "nbconvert_exporter": "python",
   "pygments_lexer": "ipython3",
   "version": "3.11.4"
  },
  "orig_nbformat": 4
 },
 "nbformat": 4,
 "nbformat_minor": 2
}
